{
  "nbformat": 4,
  "nbformat_minor": 0,
  "metadata": {
    "colab": {
      "name": "Email.ipynb",
      "provenance": [],
      "collapsed_sections": [],
      "authorship_tag": "ABX9TyN9JUUJykuOJE8oN1uRG3x8",
      "include_colab_link": true
    },
    "kernelspec": {
      "name": "python3",
      "display_name": "Python 3"
    }
  },
  "cells": [
    {
      "cell_type": "markdown",
      "metadata": {
        "id": "view-in-github",
        "colab_type": "text"
      },
      "source": [
        "<a href=\"https://colab.research.google.com/github/svzvicky/Email_Analysis/blob/main/Email.ipynb\" target=\"_parent\"><img src=\"https://colab.research.google.com/assets/colab-badge.svg\" alt=\"Open In Colab\"/></a>"
      ]
    },
    {
      "cell_type": "code",
      "metadata": {
        "colab": {
          "base_uri": "https://localhost:8080/"
        },
        "id": "ZDGIamnW7CWp",
        "outputId": "c24bae8b-ef4b-44a2-dba9-b63373669f8c"
      },
      "source": [
        "!pip install pyzmail36"
      ],
      "execution_count": 12,
      "outputs": [
        {
          "output_type": "stream",
          "text": [
            "Collecting pyzmail36\n",
            "\u001b[?25l  Downloading https://files.pythonhosted.org/packages/8c/28/34f999ca9704f7b68976fb82f05b49a09f0bb3902560572dbfbcd42c1fcc/pyzmail36-1.0.4.tar.gz (47kB)\n",
            "\r\u001b[K     |███████                         | 10kB 15.7MB/s eta 0:00:01\r\u001b[K     |█████████████▉                  | 20kB 22.2MB/s eta 0:00:01\r\u001b[K     |████████████████████▊           | 30kB 20.1MB/s eta 0:00:01\r\u001b[K     |███████████████████████████▊    | 40kB 13.4MB/s eta 0:00:01\r\u001b[K     |████████████████████████████████| 51kB 3.4MB/s \n",
            "\u001b[?25hRequirement already satisfied: setuptools in /usr/local/lib/python3.7/dist-packages (from pyzmail36) (54.0.0)\n",
            "Building wheels for collected packages: pyzmail36\n",
            "  Building wheel for pyzmail36 (setup.py) ... \u001b[?25l\u001b[?25hdone\n",
            "  Created wheel for pyzmail36: filename=pyzmail36-1.0.4-cp37-none-any.whl size=37082 sha256=d985136176453f566492c6288c37becab49b7fcd1d0c9ab8b1e55a859377bd22\n",
            "  Stored in directory: /root/.cache/pip/wheels/38/87/c9/40fdcad3ccdae5695274a1d9b0c553aa1fe63e607ca0b79782\n",
            "Successfully built pyzmail36\n",
            "Installing collected packages: pyzmail36\n",
            "Successfully installed pyzmail36-1.0.4\n"
          ],
          "name": "stdout"
        }
      ]
    },
    {
      "cell_type": "code",
      "metadata": {
        "colab": {
          "base_uri": "https://localhost:8080/"
        },
        "id": "3hquzMd14rH-",
        "outputId": "dc4c1cf4-4b23-4069-e7e0-983d0e39a13f"
      },
      "source": [
        "import imapclient\r\n",
        "import smtplib\r\n",
        "import imaplib\r\n",
        "import pprint\r\n",
        "import pyzmail\r\n",
        "import pandas as pd\r\n",
        "\r\n",
        "imap_server = 'imap.gmail.com'\r\n",
        "smtp_server = 'smtp.gmail.com'\r\n",
        "username = ''\r\n",
        "password = ''\r\n",
        "\r\n",
        "imapobj = imapclient.IMAPClient(imap_server, ssl=True)\r\n",
        "imapobj.login(username, password)\r\n",
        "\r\n",
        "smtpobj = smtplib.SMTP(smtp_server,587)\r\n",
        "smtpobj.ehlo()\r\n",
        "smtpobj.starttls()\r\n",
        "smtpobj.login(username,password)\r\n",
        "print(\"Login Successful...\")\r\n",
        "\r\n",
        "#pprint.pprint(imapobj.list_folders())\r\n",
        "print(\"Retrieving emails....\")\r\n",
        "imaplib._MAXLINE = 10000000\r\n",
        "imapobj.select_folder('Inbox', readonly=True)\r\n",
        "UIDs = imapobj.search(['SINCE', '01-Jan-2021'])\r\n",
        "#print(UIDs)\r\n",
        "\r\n",
        "from_addresses = []\r\n",
        "subjects= []\r\n",
        "email_data = []\r\n",
        "\r\n",
        "for i in range(10):\r\n",
        "    raw_message = imapobj.fetch(UIDs[i], ['BODY[]'])\r\n",
        "    #message = pyzmail.PyzMessage.factory(raw_message([UIDs[i]],[b'BODY[]']))\r\n",
        "    message = pyzmail.PyzMessage.factory(raw_message[UIDs[i]][b'BODY[]'])\r\n",
        "\r\n",
        "    from_addresses.append(message.get_address('from'))\r\n",
        "    subjects.append(message.get_subject(''))\r\n",
        "\r\n",
        "email_data.append([from_addresses,subjects])\r\n",
        "# print(\"Printing from Address\")\r\n",
        "# print(from_addresses)\r\n",
        "\r\n",
        "# print(\"Printing Subjects\")\r\n",
        "# print(subjects)\r\n",
        "\r\n",
        "print(email_data)\r\n",
        "\r\n",
        "df = pd.DataFrame(email_data)\r\n",
        "# print(df)\r\n",
        "df.to_excel(\"Email_Analytics.xlsx\", sheet_name=\"Data\")\r\n"
      ],
      "execution_count": 22,
      "outputs": [
        {
          "output_type": "stream",
          "text": [
            "Login Successful...\n",
            "Retrieving emails....\n",
            "[[[('HarvardX', 'harvardx-news@harvard.edu'), ('GUVI', 'info@guvi.in'), ('Alison (Udacity)', 'support@udacity.com'), ('MIDHANI', 'noreply@jobalertshub.com'), ('Twitter', 'info@twitter.com'), ('edX', 'news@edx.org'), ('zomato', 'noreply@mailers.zomato.com'), ('General knowledge', 'generalknowledge-space@quora.com'), ('~Saurav Pal~', 'skp@sauravpal.com'), ('Yummly', 'seasonal@email.yummly.com')], [\"Don't miss the top ten courses of 2020\", 'Happy New Year! Here’s Your Gift of Knowledge for 2021', 'Can’t wait to see you in the classroom for the Data Architect Nanodegree program', 'MIDHANI Executives Recruitment | Salary Rs.30,000 to Rs.1,60,000\\r\\n per month', '\"Ontario Finance Minister Rod Phillips resigns after facing\\r\\n criticis...', 'Gain confidence in a new field', 'Foodie, we wrote a poem for you 💐', 'What is the biggest culture shock you have ever faced?', 'Wish you Powerful 2021🎉Vignesh', 'The Best Salad Dressing 🥗 + Soup 🍲 + Easy Dessert 🍰 Recipes on Yummly']]]\n"
          ],
          "name": "stdout"
        }
      ]
    }
  ]
}