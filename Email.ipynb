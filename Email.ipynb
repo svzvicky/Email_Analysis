{
  "nbformat": 4,
  "nbformat_minor": 0,
  "metadata": {
    "colab": {
      "name": "Email.ipynb",
      "provenance": [],
      "collapsed_sections": [],
      "authorship_tag": "ABX9TyN9JUUJykuOJE8oN1uRG3x8",
      "include_colab_link": true
    },
    "kernelspec": {
      "name": "python3",
      "display_name": "Python 3"
    }
  },
  "cells": [
    {
      "cell_type": "markdown",
      "metadata": {
        "id": "view-in-github",
        "colab_type": "text"
      },
      "source": [
        "<a href=\"https://colab.research.google.com/github/svzvicky/Email_Analysis/blob/main/Email.ipynb\" target=\"_parent\"><img src=\"https://colab.research.google.com/assets/colab-badge.svg\" alt=\"Open In Colab\"/></a>"
      ]
    },
    {
      "cell_type": "code",
      "metadata": {
        "id": "ZDGIamnW7CWp"
      },
      "source": [
        "!pip install pyzmail36"
      ],
      "execution_count": null,
      "outputs": []
    },
    {
      "cell_type": "code",
      "metadata": {
        "id": "3hquzMd14rH-"
      },
      "source": [
        "import imapclient\r\n",
        "import smtplib\r\n",
        "import imaplib\r\n",
        "import pprint\r\n",
        "import pyzmail\r\n",
        "import pandas as pd\r\n",
        "\r\n",
        "imap_server = 'imap.gmail.com'\r\n",
        "smtp_server = 'smtp.gmail.com'\r\n",
        "username = ''\r\n",
        "password = ''\r\n",
        "\r\n",
        "imapobj = imapclient.IMAPClient(imap_server, ssl=True)\r\n",
        "imapobj.login(username, password)\r\n",
        "\r\n",
        "smtpobj = smtplib.SMTP(smtp_server,587)\r\n",
        "smtpobj.ehlo()\r\n",
        "smtpobj.starttls()\r\n",
        "smtpobj.login(username,password)\r\n",
        "print(\"Login Successful...\")\r\n",
        "\r\n",
        "#pprint.pprint(imapobj.list_folders())\r\n",
        "print(\"Retrieving emails....\")\r\n",
        "imaplib._MAXLINE = 10000000\r\n",
        "imapobj.select_folder('Inbox', readonly=True)\r\n",
        "UIDs = imapobj.search(['SINCE', '01-Jan-2021'])\r\n",
        "#print(UIDs)\r\n",
        "\r\n",
        "from_addresses = []\r\n",
        "subjects= []\r\n",
        "email_data = []\r\n",
        "\r\n",
        "for i in range(10):\r\n",
        "    raw_message = imapobj.fetch(UIDs[i], ['BODY[]'])\r\n",
        "    #message = pyzmail.PyzMessage.factory(raw_message([UIDs[i]],[b'BODY[]']))\r\n",
        "    message = pyzmail.PyzMessage.factory(raw_message[UIDs[i]][b'BODY[]'])\r\n",
        "\r\n",
        "    from_addresses.append(message.get_address('from'))\r\n",
        "    subjects.append(message.get_subject(''))\r\n",
        "\r\n",
        "email_data.append([from_addresses,subjects])\r\n",
        "# print(\"Printing from Address\")\r\n",
        "# print(from_addresses)\r\n",
        "\r\n",
        "# print(\"Printing Subjects\")\r\n",
        "# print(subjects)\r\n",
        "\r\n",
        "print(email_data)\r\n",
        "\r\n",
        "df = pd.DataFrame(email_data)\r\n",
        "# print(df)\r\n",
        "df.to_excel(\"Email_Analytics.xlsx\", sheet_name=\"Data\")\r\n"
      ],
      "execution_count": null,
      "outputs": []
    }
  ]
}